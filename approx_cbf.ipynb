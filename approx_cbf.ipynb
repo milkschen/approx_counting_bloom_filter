{
 "cells": [
  {
   "cell_type": "markdown",
   "metadata": {},
   "source": [
    "# Approximate counting Bloom filter\n",
    "\n",
    "A Bloom filter is a widely-used data structure that is efficient in answering membership queries, which means asking if an element belong to the data structure. It is guaranteed that Bloom filter always answer any membership query with no false negatives, and the probability of false-positive answers can be analyzed with simple theoretical work. Bloom filters are widely use in web data search, network data analysis and genomic dataset comparison.\n",
    "\n",
    "Despite all the nice properties of a Bloom filter, it doesn't support deletions (remove items from the data structure after they are inserted), complicate some applications that prefer more flexibility. Therefore, an extented data structure called counting Bloom filter (CBF) is proposed. A counting Bloom filter records counts for each bin in the filter, instead of bits for a typical Bloom filter. The advantage of storing counts is the capability of deletions, and a \"thresholding membership query\" -- asking if an item belongs to the filter with occurrences over a given threshold.\n",
    "\n",
    "However, replacing bits with counts in a Bloom filter greatly increases the space usage of the data structure. Also, for many scenarios people need to set the size of each bin in the filter based on some high-frequency elements, resulting in wasted bits for many other bins. To deal with this issue, we propose a probabilistic approach for updating counts in the counting Bloom filter. We call this method **approximate counting Bloom filter**."
   ]
  },
  {
   "cell_type": "code",
   "execution_count": 1,
   "metadata": {},
   "outputs": [],
   "source": [
    "import xxhash\n",
    "\n",
    "import random\n",
    "import sys\n",
    "import math\n",
    "\n",
    "# from matplotlib import ticker\n",
    "# from matplotlib.colors import ListedColormap\n",
    "# from matplotlib.patches import Patch\n",
    "\n",
    "from matplotlib import rcParams\n",
    "from matplotlib import style\n",
    "import matplotlib.pyplot as plt\n",
    "\n",
    "style.use('fivethirtyeight')\n",
    "rcParams['font.family'] = 'sans-serif'\n",
    "rcParams['font.sans-serif'] = ['Trebuchet MS']\n",
    "plt.rcParams['figure.facecolor'] = 'white'\n",
    "plt.rcParams['axes.facecolor'] = 'white'\n",
    "plt.rcParams['xtick.color'] = 'grey'\n",
    "plt.rcParams['ytick.color'] = 'grey'\n",
    "\n",
    "from IPython.display import clear_output\n",
    "%config InlineBackend.figure_format = 'retina'\n"
   ]
  },
  {
   "cell_type": "markdown",
   "metadata": {},
   "source": [
    "## Implement hashing and counting Bloom filter objects\n",
    "\n",
    "`xxhash` library is used for hashing."
   ]
  },
  {
   "cell_type": "code",
   "execution_count": 3,
   "metadata": {},
   "outputs": [],
   "source": [
    "# control random seed for reproducibility\n",
    "random.seed(0)\n",
    "\n",
    "class HashXX32:\n",
    "    def __init__(self, seed):\n",
    "        self.h = xxhash.xxh32(seed=seed)\n",
    "\n",
    "    def hash(self, o):\n",
    "        self.h.reset()\n",
    "        self.h.update(o)\n",
    "        return self.h.intdigest() % sys.maxsize\n",
    "\n",
    "class CountingBloomFilter:\n",
    "    def __init__(\n",
    "        self,\n",
    "        num_hash,\n",
    "        size,\n",
    "        seed = [],\n",
    "        verbose = 0,\n",
    "        max_size = sys.maxsize\n",
    "    ):\n",
    "        # num_hash (Int): \n",
    "        #     number of hash functions, usually denote as k\n",
    "        # size (Int): \n",
    "        #     size of the filter\n",
    "        # seed (List) [[]]: \n",
    "        #     list of length num_hash; can be None and the seed will be randomly generated\n",
    "        # verbose (Int) [0]:\n",
    "        #     increment to raise verbose level\n",
    "        # max_size (Int) [sys.maxsize]:\n",
    "        #     the max value of a count\n",
    "        \n",
    "        # Randomly decide seeds if not set\n",
    "        if not seed:\n",
    "            for i in range(num_hash):\n",
    "                seed.append(random.randint(0, sys.maxsize - 1))\n",
    "        self.list_hasher = [HashXX32(s) for s in seed]\n",
    "        self.num_hash = num_hash\n",
    "        self.size = size\n",
    "        self.table = [0] * size\n",
    "        self.verbose = verbose\n",
    "        self.max_size = max_size\n",
    "\n",
    "    def insert(self, obj):\n",
    "        # Insert the object into the data structure.\n",
    "        # For each insertion, increment the count by 1\n",
    "        \n",
    "        for i in range(self.num_hash):\n",
    "            list_target_idx = self.list_hasher[i].hash(obj) % self.size\n",
    "            \n",
    "            if self.table[list_target_idx] < self.max_size:\n",
    "                self.table[list_target_idx] += 1\n",
    "            # Do not update if the bin has reached max_size (print warning if verbose > 0)\n",
    "            elif self.verbose > 0:\n",
    "                print (f'fail to increment bin {list_target_idx} when inserting item {obj} because the bin has reached max_size')\n",
    "\n",
    "            # Print each step if verbose > 1\n",
    "            if self.verbose > 1:\n",
    "                print (f'insert {obj} to {list_target_idx}')\n",
    "                \n",
    "    def delete(self, obj):\n",
    "        # Delete the object from the data structure.\n",
    "        # For each deletion, decrement the count by 1 if its value > 0\n",
    "        \n",
    "        # First check if obj is in the filter\n",
    "        if obj not in self:\n",
    "            print (f'cannot perform delete(): item {obj} is not in the filter')\n",
    "            return\n",
    "        \n",
    "        for i in range(self.num_hash):\n",
    "            list_target_idx = self.list_hasher[i].hash(obj) % self.size\n",
    "            \n",
    "            if self.table[list_target_idx] > 0:\n",
    "                self.table[list_target_idx] -= 1\n",
    "            # Don't decrement if the count is already 0\n",
    "            elif self.verbose > 0:\n",
    "                print (f'fail to decrement bin {list_target_idx} when deleting item {obj} because the bin count is already 0')\n",
    "\n",
    "            # Print each step if verbose > 1\n",
    "            if self.verbose > 1:\n",
    "                print (f'delete {obj} from {list_target_idx}')\n",
    "                \n",
    "    def __contains__(self, obj):\n",
    "        # Return True if the object has been added; False if not\n",
    "        # Don't consider counts here\n",
    "        for i in range(self.num_hash):\n",
    "            list_target_idx = self.list_hasher[i].hash(obj) % self.size\n",
    "            if self.verbose > 0:\n",
    "                print (f'item {obj} hashed to bin {list_target_idx}')\n",
    "            if self.table[list_target_idx] == 0:\n",
    "                return False\n",
    "        return True\n",
    "    \n",
    "    def thresholding_contain(self, obj, threshold):\n",
    "        # Return True if the min count associated with obj >= threshold; False if not\n",
    "        for i in range(self.num_hash):\n",
    "            list_target_idx = self.list_hasher[i].hash(obj) % self.size\n",
    "            if self.verbose > 0:\n",
    "                print (f'item {obj} hashed to bin {list_target_idx}, the count of which is {self.table[list_target_idx]}')\n",
    "            if self.table[list_target_idx] < threshold:\n",
    "                return False\n",
    "        return True\n",
    "\n",
    "    def print_filter(self):\n",
    "        # Print CBF\n",
    "        print (self.table)\n",
    "    \n",
    "    def estimate_size(self):\n",
    "        # Return estimated size of the CBF\n",
    "        return (self.size * math.ceil(math.log2(self.max_size)))\n",
    "        "
   ]
  },
  {
   "cell_type": "markdown",
   "metadata": {},
   "source": [
    "## Testing using a small example\n",
    "\n",
    "We use a small test case to test our counting Bloom filter.\n",
    "For this example, we print messages showing filter saturation during insertion and queries.\n",
    "\n",
    "We'd like to know:\n",
    "1. the size of the data structure (this is the evaluated number, not actual memory usage, because we're just prototyping)"
   ]
  },
  {
   "cell_type": "code",
   "execution_count": 4,
   "metadata": {},
   "outputs": [
    {
     "name": "stdout",
     "output_type": "stream",
     "text": [
      "TestCBF is estimated to use 90 bits (30x3)\n"
     ]
    }
   ],
   "source": [
    "# test case: \"countingbloomfilter\", 3 hash functions, 30 bins\n",
    "list_obj = list(\"countingbloomfilter\")\n",
    "test_cbf = CountingBloomFilter(num_hash = 3, size = 30, verbose = 1, max_size = 5)\n",
    "size_test_cbf = test_cbf.estimate_size()\n",
    "print (f'TestCBF is estimated to use {size_test_cbf} bits ({test_cbf.size}x{math.ceil(math.log2(test_cbf.max_size))})')"
   ]
  },
  {
   "cell_type": "markdown",
   "metadata": {},
   "source": [
    "2. what the filter is after insertion is completed\n",
    "\n",
    "As the messages demonstrate, the actual count of $\\text{bin}_{24}$ should be 9, but it is saturated at 5 becuase of the `max_size` we set."
   ]
  },
  {
   "cell_type": "code",
   "execution_count": 5,
   "metadata": {
    "scrolled": false
   },
   "outputs": [
    {
     "name": "stdout",
     "output_type": "stream",
     "text": [
      "fail to increment bin 24 when inserting item f because the bin has reached max_size\n",
      "fail to increment bin 24 when inserting item i because the bin has reached max_size\n",
      "fail to increment bin 24 when inserting item i because the bin has reached max_size\n",
      "fail to increment bin 24 when inserting item t because the bin has reached max_size\n",
      "TestCBF after insertion:\n",
      "[0, 0, 0, 5, 0, 2, 2, 0, 3, 0, 0, 2, 2, 2, 1, 4, 1, 2, 0, 3, 3, 1, 2, 4, 5, 1, 4, 2, 2, 0]\n"
     ]
    }
   ],
   "source": [
    "for obj in list_obj:\n",
    "    test_cbf.insert(obj)\n",
    "\n",
    "print ('TestCBF after insertion:')\n",
    "test_cbf.print_filter()"
   ]
  },
  {
   "cell_type": "markdown",
   "metadata": {},
   "source": [
    "3. if it works well for membership queries\n",
    "\n",
    "We'll see examples of a true-positive (`'i'`), a false-positive (`'x'`) and a true-negative (`'y'`) membership query."
   ]
  },
  {
   "cell_type": "code",
   "execution_count": 6,
   "metadata": {},
   "outputs": [
    {
     "name": "stdout",
     "output_type": "stream",
     "text": [
      "Testing character \"i\", which is an input element\n",
      "item i hashed to bin 24\n",
      "item i hashed to bin 13\n",
      "item i hashed to bin 24\n",
      "True\n",
      "\n",
      "Testing character \"x\", which is not an input element\n",
      "item x hashed to bin 24\n",
      "item x hashed to bin 21\n",
      "item x hashed to bin 16\n",
      "True\n",
      "*TestCBF returns True for \"x\", which is due to collision\n",
      "\n",
      "Testing character \"y\", which is not an input element\n",
      "item y hashed to bin 2\n",
      "False\n"
     ]
    }
   ],
   "source": [
    "print ('Testing character \"i\", which is an input element')\n",
    "print ('i' in test_cbf)\n",
    "print ()\n",
    "\n",
    "print ('Testing character \"x\", which is not an input element')\n",
    "print ('x' in test_cbf)\n",
    "print ('*TestCBF returns True for \"x\", which is due to collision\\n')\n",
    "\n",
    "print ('Testing character \"y\", which is not an input element')\n",
    "print ('y' in test_cbf)"
   ]
  },
  {
   "cell_type": "code",
   "execution_count": 7,
   "metadata": {},
   "outputs": [
    {
     "name": "stdout",
     "output_type": "stream",
     "text": [
      "Testing character \"u\", which occurs 1 in the input stream\n",
      "item u hashed to bin 24, the count of which is 5\n",
      "item u hashed to bin 21, the count of which is 1\n",
      "False\n",
      "\n",
      "Testing character \"i\", which occurs 2 times in the input stream\n",
      "item i hashed to bin 24, the count of which is 5\n",
      "item i hashed to bin 13, the count of which is 2\n",
      "item i hashed to bin 24, the count of which is 5\n",
      "True\n",
      "\n"
     ]
    }
   ],
   "source": [
    "print (f'Testing character \"u\", which occurs {list_obj.count(\"u\")} in the input stream')\n",
    "print (test_cbf.thresholding_contain('u', 2))\n",
    "print ()\n",
    "\n",
    "print (f'Testing character \"i\", which occurs {list_obj.count(\"i\")} times in the input stream')\n",
    "print (test_cbf.thresholding_contain('i', 2))\n",
    "print ()"
   ]
  },
  {
   "cell_type": "markdown",
   "metadata": {},
   "source": [
    "4. deletion"
   ]
  },
  {
   "cell_type": "code",
   "execution_count": null,
   "metadata": {},
   "outputs": [],
   "source": []
  },
  {
   "cell_type": "markdown",
   "metadata": {},
   "source": [
    "## Experiment using a set of genomic kmers\n",
    "\n",
    "We extract 6-mers from a 10kb DNA sequence human chromosome 21 (10,000,000,-10,100,000) to perform experiments for our data structures."
   ]
  },
  {
   "cell_type": "code",
   "execution_count": 21,
   "metadata": {},
   "outputs": [
    {
     "name": "stdout",
     "output_type": "stream",
     "text": [
      "Number of kmers: 49996\n",
      "Number of distinct kmers: 3655\n"
     ]
    }
   ],
   "source": [
    "fn = 'hg19-chr21-10000000_10100000.fa'\n",
    "\n",
    "seq = ''\n",
    "with open(fn, 'r') as f:\n",
    "    for line in f:\n",
    "        if line[0] != '>':\n",
    "            seq += line.rstrip()\n",
    "\n",
    "# Remove all Ns (there is a big chunk of Ns in the selected region)\n",
    "seq = seq.replace('N', '')\n",
    "# seq = seq[:10000]\n",
    "\n",
    "size_kmer = 6\n",
    "list_kmer = []\n",
    "for i in range(len(seq) - size_kmer + 1):\n",
    "    list_kmer.append(seq[i : i + size_kmer])\n",
    "\n",
    "print (f'Number of kmers: {len(list_kmer)}')\n",
    "print (f'Number of distinct kmers: {len(set(list_kmer))}')\n",
    "\n",
    "# Get counts for each distinct kmer\n",
    "list_count = []\n",
    "for s in set(list_kmer):\n",
    "    list_count.append(list_kmer.count(s))"
   ]
  },
  {
   "cell_type": "markdown",
   "metadata": {},
   "source": [
    "Plot the distribution kmer multiplicity. \n",
    "Most kmers have few occurrences."
   ]
  },
  {
   "cell_type": "code",
   "execution_count": 20,
   "metadata": {
    "scrolled": true
   },
   "outputs": [
    {
     "data": {
      "image/png": "[encoded data removed]",
      "text/plain": [
       "<Figure size 720x216 with 1 Axes>"
      ]
     },
     "metadata": {
      "image/png": {
       "height": 222,
       "width": 674
      },
      "needs_background": "dark"
     },
     "output_type": "display_data"
    }
   ],
   "source": [
    "fig, ax = plt.subplots(figsize=(10,3))\n",
    "\n",
    "ax.set_title('Distribution of kmer multiplicity', loc = 'left')\n",
    "ax.set_xlabel('Kmer multiplicity')\n",
    "ax.set_ylabel('Number of kmers')\n",
    "\n",
    "n, bins, patches = plt.hist(list_count, log=True, bins=100)\n",
    "plt.show()"
   ]
  },
  {
   "cell_type": "markdown",
   "metadata": {},
   "source": [
    "The size of input stream $m$ is 49996, and let's set the size of the filter $n$ to be 8192."
   ]
  },
  {
   "cell_type": "code",
   "execution_count": null,
   "metadata": {},
   "outputs": [],
   "source": []
  },
  {
   "cell_type": "markdown",
   "metadata": {},
   "source": [
    "## Implement approximate counting\n",
    "\n",
    "`ApproximateCountingBloomFilter` inherits `CountingBloomFilter`.\n",
    "\n",
    "Member functions `insert()` is replaced."
   ]
  },
  {
   "cell_type": "code",
   "execution_count": 10,
   "metadata": {},
   "outputs": [],
   "source": [
    "class ApproximateCountingBloomFilter(CountingBloomFilter):\n",
    "    def insert(self, obj):\n",
    "        # Perform approximate counting.\n",
    "        # For each insertion, add 1 with probability 2^{-c}, where c is the current bin value\n",
    "        \n",
    "        for i in range(self.num_hash):\n",
    "            list_target_idx = self.list_hasher[i].hash(obj) % self.size\n",
    "            \n",
    "            # Bernoulli trial with p = 2^{-c}\n",
    "            rand_num = random.random()\n",
    "            if self.table[list_target_idx] < self.max_size:\n",
    "                if rand_num < 2 ** (- self.table[list_target_idx]):\n",
    "                    self.table[list_target_idx] += 1\n",
    "            # Do not update if the bin has reached max_size (print warning if verbose > 0)\n",
    "            elif self.verbose > 0:\n",
    "                print (f'insert(): fail to increment bin {list_target_idx} when inserting {obj} because the bin has reached max_size')\n",
    "\n",
    "            # Print each step if verbose > 1\n",
    "            if self.verbose > 1:\n",
    "                print (f'insert(), insert {obj} to {list_target_idx}')\n",
    "            "
   ]
  },
  {
   "cell_type": "code",
   "execution_count": 11,
   "metadata": {},
   "outputs": [
    {
     "name": "stdout",
     "output_type": "stream",
     "text": [
      "TestCBF2 after insertion:\n",
      "[0, 0, 0, 1, 0, 1, 2, 0, 2, 0, 0, 1, 1, 2, 1, 2, 1, 2, 0, 2, 1, 1, 2, 2, 3, 1, 2, 1, 1, 0]\n",
      "[0, 0, 0, 5, 0, 2, 2, 0, 3, 0, 0, 2, 2, 2, 1, 4, 1, 2, 0, 3, 3, 1, 2, 4, 5, 1, 4, 2, 2, 0]\n",
      "\n"
     ]
    }
   ],
   "source": [
    "test_cbf2 = ApproximateCountingBloomFilter(num_hash = 3, size = 30, verbose = 1, max_size = 5)\n",
    "for obj in list_obj:\n",
    "    test_cbf2.insert(obj)\n",
    "\n",
    "print ('TestCBF2 after insertion:')\n",
    "test_cbf2.print_filter()\n",
    "test_cbf.print_filter()\n",
    "print ()\n"
   ]
  },
  {
   "cell_type": "code",
   "execution_count": 12,
   "metadata": {},
   "outputs": [
    {
     "name": "stdout",
     "output_type": "stream",
     "text": [
      "0.8444218515250481\n",
      "0.7579544029403025\n",
      "3068971186\n",
      "2351501194\n"
     ]
    }
   ],
   "source": [
    "random.seed(0)\n",
    "print (random.random())\n",
    "print (random.random())\n",
    "h1 = xxhash.xxh32(seed=0)\n",
    "h1.reset()\n",
    "h1.update(\"1\")\n",
    "print (h1.intdigest() % sys.maxsize)\n",
    "h2 = xxhash.xxh32(seed=random.randint(0,sys.maxsize))\n",
    "h2.reset()\n",
    "h2.update(\"1\")\n",
    "print (h2.intdigest() % sys.maxsize)"
   ]
  },
  {
   "cell_type": "markdown",
   "metadata": {},
   "source": [
    "parameter selection"
   ]
  },
  {
   "cell_type": "code",
   "execution_count": null,
   "metadata": {},
   "outputs": [],
   "source": []
  },
  {
   "cell_type": "code",
   "execution_count": null,
   "metadata": {},
   "outputs": [],
   "source": []
  }
 ],
 "metadata": {
  "kernelspec": {
   "display_name": "Python 3",
   "language": "python",
   "name": "python3"
  },
  "language_info": {
   "codemirror_mode": {
    "name": "ipython",
    "version": 3
   },
   "file_extension": ".py",
   "mimetype": "text/x-python",
   "name": "python",
   "nbconvert_exporter": "python",
   "pygments_lexer": "ipython3",
   "version": "3.7.1"
  }
 },
 "nbformat": 4,
 "nbformat_minor": 2
}
